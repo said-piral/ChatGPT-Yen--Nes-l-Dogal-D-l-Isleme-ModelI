{
 "cells": [
  {
   "cell_type": "code",
   "execution_count": null,
   "id": "bc473287",
   "metadata": {},
   "outputs": [],
   "source": [
    " örneğin chatgpt-3 modelini kullanarak bir metni tahmin etme işlemini gösteren basit bir Python kodu aşağıdaki gibidir."
   ]
  },
  {
   "cell_type": "code",
   "execution_count": null,
   "id": "543954a3",
   "metadata": {},
   "outputs": [],
   "source": [
    "import openai\n",
    "\n",
    "# OpenAI API anahtarınızı buraya girin\n",
    "openai.api_key = \"YOUR_API_KEY\"\n",
    "\n",
    "# GPT-3 modelini belirleyin\n",
    "model_engine = \"text-davinci-002\"\n",
    "\n",
    "# Tahmin edilecek metin\n",
    "input_text = \"Merhaba, nasılsın?\"\n",
    "\n",
    "# OpenAI API'si üzerinden GPT-3 ile metni tahmin edin\n",
    "response = openai.Completion.create(\n",
    "  engine=model_engine,\n",
    "  prompt=input_text,\n",
    "  max_tokens=50,\n",
    "  n=1,\n",
    "  stop=None,\n",
    "  temperature=0.5,\n",
    ")\n",
    "\n",
    "# Tahmin edilen sonucu yazdırın\n",
    "print(response.choices[0].text)\n"
   ]
  },
  {
   "cell_type": "code",
   "execution_count": null,
   "id": "7d15019c",
   "metadata": {},
   "outputs": [],
   "source": [
    "Bu Python kodu, OpenAI API'sine bağlanarak GPT-3 modelini kullanarak metin tahmini yapmak için kullanılır. İlk olarak, API anahtarınızı girerek bağlanırsınız ve ardından GPT-3 modelini belirlersiniz. Daha sonra, tahmin edilecek metni belirleyerek openai.Completion.create() fonksiyonunu kullanarak tahmin edersiniz ve sonucu print() fonksiyonu ile ekrana yazdırırsınız. Bu kod, GPT-3 modelinin Python programlama dili ile kullanımını göstermektedir ve gerçek uygulamalarda daha kapsamlı ve detaylı kodlar kullanılabilir."
   ]
  }
 ],
 "metadata": {
  "kernelspec": {
   "display_name": "Python 3 (ipykernel)",
   "language": "python",
   "name": "python3"
  },
  "language_info": {
   "codemirror_mode": {
    "name": "ipython",
    "version": 3
   },
   "file_extension": ".py",
   "mimetype": "text/x-python",
   "name": "python",
   "nbconvert_exporter": "python",
   "pygments_lexer": "ipython3",
   "version": "3.9.13"
  }
 },
 "nbformat": 4,
 "nbformat_minor": 5
}
